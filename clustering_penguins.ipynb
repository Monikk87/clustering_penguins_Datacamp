{
 "cells": [
  {
   "cell_type": "code",
   "execution_count": 1,
   "id": "22d2e7be",
   "metadata": {
    "executionCancelledAt": null,
    "executionTime": 51,
    "lastExecutedAt": 1736247442022,
    "lastExecutedByKernel": "4b9978dd-a49a-4e00-9cb3-8eb451736637",
    "lastScheduledRunId": null,
    "lastSuccessfullyExecutedCode": "# Import Required Packages\nimport pandas as pd\nimport numpy as np\nimport matplotlib.pyplot as plt\nfrom sklearn.cluster import KMeans\nfrom sklearn.preprocessing import StandardScaler\nfrom sklearn.pipeline import make_pipeline\nfrom sklearn.manifold import TSNE\n\n# Loading and examining the dataset\npenguins_df = pd.read_csv(\"penguins.csv\")\npenguins_df.head()",
    "outputsMetadata": {
     "0": {
      "height": 50,
      "tableState": {
       "customFilter": {
        "const": {
         "type": "boolean",
         "valid": true,
         "value": true
        },
        "id": "f40d73c4-444c-403a-8962-88fe91000781",
        "nodeType": "const"
       },
       "quickFilterText": ""
      },
      "type": "dataFrame"
     }
    }
   },
   "outputs": [],
   "source": [
    "# Import Required Packages\n",
    "import pandas as pd\n",
    "import numpy as np\n",
    "import matplotlib.pyplot as plt\n",
    "from sklearn.cluster import KMeans\n",
    "from sklearn.preprocessing import StandardScaler\n",
    "from sklearn.pipeline import make_pipeline\n",
    "from sklearn.manifold import TSNE\n"
   ]
  },
  {
   "cell_type": "code",
   "execution_count": 2,
   "id": "5e49df95",
   "metadata": {
    "scrolled": true
   },
   "outputs": [
    {
     "data": {
      "text/html": [
       "<div>\n",
       "<style scoped>\n",
       "    .dataframe tbody tr th:only-of-type {\n",
       "        vertical-align: middle;\n",
       "    }\n",
       "\n",
       "    .dataframe tbody tr th {\n",
       "        vertical-align: top;\n",
       "    }\n",
       "\n",
       "    .dataframe thead th {\n",
       "        text-align: right;\n",
       "    }\n",
       "</style>\n",
       "<table border=\"1\" class=\"dataframe\">\n",
       "  <thead>\n",
       "    <tr style=\"text-align: right;\">\n",
       "      <th></th>\n",
       "      <th>culmen_length_mm</th>\n",
       "      <th>culmen_depth_mm</th>\n",
       "      <th>flipper_length_mm</th>\n",
       "      <th>body_mass_g</th>\n",
       "      <th>sex</th>\n",
       "    </tr>\n",
       "  </thead>\n",
       "  <tbody>\n",
       "    <tr>\n",
       "      <th>0</th>\n",
       "      <td>39.1</td>\n",
       "      <td>18.7</td>\n",
       "      <td>181.0</td>\n",
       "      <td>3750.0</td>\n",
       "      <td>MALE</td>\n",
       "    </tr>\n",
       "    <tr>\n",
       "      <th>1</th>\n",
       "      <td>39.5</td>\n",
       "      <td>17.4</td>\n",
       "      <td>186.0</td>\n",
       "      <td>3800.0</td>\n",
       "      <td>FEMALE</td>\n",
       "    </tr>\n",
       "    <tr>\n",
       "      <th>2</th>\n",
       "      <td>40.3</td>\n",
       "      <td>18.0</td>\n",
       "      <td>195.0</td>\n",
       "      <td>3250.0</td>\n",
       "      <td>FEMALE</td>\n",
       "    </tr>\n",
       "    <tr>\n",
       "      <th>3</th>\n",
       "      <td>36.7</td>\n",
       "      <td>19.3</td>\n",
       "      <td>193.0</td>\n",
       "      <td>3450.0</td>\n",
       "      <td>FEMALE</td>\n",
       "    </tr>\n",
       "    <tr>\n",
       "      <th>4</th>\n",
       "      <td>39.3</td>\n",
       "      <td>20.6</td>\n",
       "      <td>190.0</td>\n",
       "      <td>3650.0</td>\n",
       "      <td>MALE</td>\n",
       "    </tr>\n",
       "  </tbody>\n",
       "</table>\n",
       "</div>"
      ],
      "text/plain": [
       "   culmen_length_mm  culmen_depth_mm  flipper_length_mm  body_mass_g     sex\n",
       "0              39.1             18.7              181.0       3750.0    MALE\n",
       "1              39.5             17.4              186.0       3800.0  FEMALE\n",
       "2              40.3             18.0              195.0       3250.0  FEMALE\n",
       "3              36.7             19.3              193.0       3450.0  FEMALE\n",
       "4              39.3             20.6              190.0       3650.0    MALE"
      ]
     },
     "execution_count": 2,
     "metadata": {},
     "output_type": "execute_result"
    }
   ],
   "source": [
    "# Loading and examining the dataset\n",
    "penguins_df = pd.read_csv(\"penguins.csv\")\n",
    "penguins_df.head()"
   ]
  },
  {
   "cell_type": "code",
   "execution_count": 3,
   "id": "6efc9bfd",
   "metadata": {
    "executionCancelledAt": null,
    "executionTime": 61,
    "lastExecutedAt": 1736247442083,
    "lastExecutedByKernel": "4b9978dd-a49a-4e00-9cb3-8eb451736637",
    "lastScheduledRunId": null,
    "lastSuccessfullyExecutedCode": "# Exploratory analysis\n# Check for missing values\n\nprint(penguins_df.isna().sum())\n\n# Check columns types\nprint(penguins_df.info())",
    "outputsMetadata": {
     "0": {
      "height": 416,
      "type": "stream"
     }
    }
   },
   "outputs": [
    {
     "name": "stdout",
     "output_type": "stream",
     "text": [
      "culmen_length_mm     0\n",
      "culmen_depth_mm      0\n",
      "flipper_length_mm    0\n",
      "body_mass_g          0\n",
      "sex                  0\n",
      "dtype: int64\n",
      "<class 'pandas.core.frame.DataFrame'>\n",
      "RangeIndex: 332 entries, 0 to 331\n",
      "Data columns (total 5 columns):\n",
      " #   Column             Non-Null Count  Dtype  \n",
      "---  ------             --------------  -----  \n",
      " 0   culmen_length_mm   332 non-null    float64\n",
      " 1   culmen_depth_mm    332 non-null    float64\n",
      " 2   flipper_length_mm  332 non-null    float64\n",
      " 3   body_mass_g        332 non-null    float64\n",
      " 4   sex                332 non-null    object \n",
      "dtypes: float64(4), object(1)\n",
      "memory usage: 13.1+ KB\n",
      "None\n"
     ]
    }
   ],
   "source": [
    "# Exploratory analysis\n",
    "# Check for missing values\n",
    "\n",
    "print(penguins_df.isna().sum())\n",
    "\n",
    "# Check columns types\n",
    "print(penguins_df.info())"
   ]
  },
  {
   "cell_type": "code",
   "execution_count": 4,
   "id": "371f7ebf",
   "metadata": {
    "executionCancelledAt": null,
    "executionTime": 51,
    "lastExecutedAt": 1736247442134,
    "lastExecutedByKernel": "4b9978dd-a49a-4e00-9cb3-8eb451736637",
    "lastScheduledRunId": null,
    "lastSuccessfullyExecutedCode": "# Convert the sex columns to binary 0-1\n\npenguins_df['sex_numeric'] = np.where(penguins_df['sex']=='MALE',0,1)\n    \nprint(penguins_df['sex_numeric'].head())",
    "outputsMetadata": {
     "0": {
      "height": 143,
      "type": "stream"
     }
    }
   },
   "outputs": [
    {
     "name": "stdout",
     "output_type": "stream",
     "text": [
      "0    0\n",
      "1    1\n",
      "2    1\n",
      "3    1\n",
      "4    0\n",
      "Name: sex_numeric, dtype: int64\n"
     ]
    }
   ],
   "source": [
    "# Convert the sex columns to binary 0-1\n",
    "\n",
    "penguins_df['sex_numeric'] = np.where(penguins_df['sex']=='MALE',0,1)\n",
    "    \n",
    "print(penguins_df['sex_numeric'].head())"
   ]
  },
  {
   "cell_type": "code",
   "execution_count": 5,
   "id": "a456582a",
   "metadata": {
    "executionCancelledAt": null,
    "executionTime": 50,
    "lastExecutedAt": 1736247442184,
    "lastExecutedByKernel": "4b9978dd-a49a-4e00-9cb3-8eb451736637",
    "lastScheduledRunId": null,
    "lastSuccessfullyExecutedCode": "# Convert the df into an array\n\npenguins_array = penguins_df.drop('sex',axis=1).values\nprint(penguins_array[0:5])\n",
    "outputsMetadata": {
     "0": {
      "height": 122,
      "type": "stream"
     }
    }
   },
   "outputs": [
    {
     "name": "stdout",
     "output_type": "stream",
     "text": [
      "[[3.91e+01 1.87e+01 1.81e+02 3.75e+03 0.00e+00]\n",
      " [3.95e+01 1.74e+01 1.86e+02 3.80e+03 1.00e+00]\n",
      " [4.03e+01 1.80e+01 1.95e+02 3.25e+03 1.00e+00]\n",
      " [3.67e+01 1.93e+01 1.93e+02 3.45e+03 1.00e+00]\n",
      " [3.93e+01 2.06e+01 1.90e+02 3.65e+03 0.00e+00]]\n"
     ]
    }
   ],
   "source": [
    "# Convert the df into an array\n",
    "\n",
    "penguins_array = penguins_df.drop('sex',axis=1).values\n",
    "print(penguins_array[0:5])\n"
   ]
  },
  {
   "cell_type": "code",
   "execution_count": 6,
   "id": "fd97187e",
   "metadata": {
    "executionCancelledAt": null,
    "executionTime": 51,
    "lastExecutedAt": 1736247442235,
    "lastExecutedByKernel": "4b9978dd-a49a-4e00-9cb3-8eb451736637",
    "lastScheduledRunId": null,
    "lastSuccessfullyExecutedCode": "# scale the model\nscaler = StandardScaler()\nscaler.fit(penguins_array)\nStandardScaler(copy=True, with_mean=True, with_std = True)\nmodel_scaled = scaler.transform(penguins_array)"
   },
   "outputs": [],
   "source": [
    "# scale the model\n",
    "scaler = StandardScaler()\n",
    "scaler.fit(penguins_array)\n",
    "StandardScaler(copy=True, with_mean=True, with_std = True)\n",
    "model_scaled = scaler.transform(penguins_array)"
   ]
  },
  {
   "cell_type": "code",
   "execution_count": 8,
   "id": "81e74a8d",
   "metadata": {
    "executionCancelledAt": null,
    "executionTime": 243,
    "lastExecutedAt": 1736247442479,
    "lastExecutedByKernel": "4b9978dd-a49a-4e00-9cb3-8eb451736637",
    "lastScheduledRunId": null,
    "lastSuccessfullyExecutedCode": "# Examining what n_clusters to choose\n\nks = range(1,7)\ninertias = []\n\nfor k in ks:\n    kmenask = KMeans(n_clusters = k)\n    kmenask.fit_transform(model_scaled)\n    inertias.append(kmenask.inertia_)\n    \n# Plot ks vs inertias\nplt.plot(ks, inertias, '-o')\nplt.xlabel('number of clusters, k')\nplt.ylabel('inertia')\nplt.xticks(ks)\nplt.show()\n\n# The interias examination shows that the n_clusters is 4"
   },
   "outputs": [
    {
     "data": {
      "image/png": "[encoded data removed]",
      "text/plain": [
       "<Figure size 640x480 with 1 Axes>"
      ]
     },
     "metadata": {},
     "output_type": "display_data"
    }
   ],
   "source": [
    "# Examine what n_clusters to choose\n",
    "\n",
    "ks = range(1,7)\n",
    "inertias = []\n",
    "\n",
    "for k in ks:\n",
    "    kmenask = KMeans(n_clusters = k, n_init=10)\n",
    "    kmenask.fit_transform(model_scaled)\n",
    "    inertias.append(kmenask.inertia_)\n",
    "    \n",
    "# Plot ks vs inertias\n",
    "plt.plot(ks, inertias, '-o')\n",
    "plt.xlabel('number of clusters, k')\n",
    "plt.ylabel('inertia')\n",
    "plt.xticks(ks)\n",
    "plt.show()\n",
    "\n",
    "# The interias examination shows that the n_clusters is 4"
   ]
  },
  {
   "cell_type": "code",
   "execution_count": 10,
   "id": "1ae3aebd",
   "metadata": {
    "executionCancelledAt": null,
    "executionTime": 51,
    "lastExecutedAt": 1736247442530,
    "lastExecutedByKernel": "4b9978dd-a49a-4e00-9cb3-8eb451736637",
    "lastScheduledRunId": null,
    "lastSuccessfullyExecutedCode": "# Making the KMeans model with n_clusters = 5\nkmeans = KMeans(n_clusters = 4)\nkmeans.fit(model_scaled) \nspecies = kmeans.predict(model_scaled)\nprint(species)\nprint(kmeans.inertia_)",
    "outputsMetadata": {
     "0": {
      "height": 227,
      "type": "stream"
     }
    }
   },
   "outputs": [
    {
     "name": "stdout",
     "output_type": "stream",
     "text": [
      "[2 0 0 0 2 0 2 0 2 0 0 2 0 2 0 2 0 2 2 0 2 0 0 2 0 2 0 2 0 2 2 0 0 2 0 2 0\n",
      " 2 0 2 2 0 2 0 2 0 2 0 2 0 2 0 2 0 2 0 2 0 2 0 2 0 2 0 2 0 2 0 2 0 2 0 2 0\n",
      " 2 0 2 0 2 2 0 2 0 0 2 0 2 0 2 0 2 0 2 0 2 0 2 0 2 0 2 0 2 0 2 0 2 0 2 0 2\n",
      " 0 2 0 2 0 2 0 2 0 2 0 2 0 2 0 2 0 2 0 2 0 2 0 2 0 2 0 2 2 0 0 2 0 2 0 2 2\n",
      " 0 2 0 0 2 0 2 0 2 0 2 0 2 2 0 0 2 0 2 0 2 0 2 0 2 0 2 0 2 0 2 2 0 0 2 0 2\n",
      " 2 0 2 0 0 2 0 2 2 0 0 2 0 2 0 2 0 2 2 0 2 0 0 2 0 2 2 0 1 3 1 3 3 1 1 3 1\n",
      " 3 1 3 1 3 1 3 1 3 1 3 3 1 1 3 1 3 3 1 3 3 1 1 3 1 3 1 3 1 3 1 3 1 3 3 1 1\n",
      " 3 1 3 1 3 1 3 1 3 1 3 1 3 1 3 1 3 1 3 3 1 3 1 3 3 1 1 3 1 3 1 3 1 3 1 3 1\n",
      " 3 1 3 1 3 1 3 1 3 1 3 3 1 1 3 1 3 1 3 3 1 3 1 3 1 3 1 3 1 3 3 1 1 3 1 3]\n",
      "383.4643203353644\n"
     ]
    }
   ],
   "source": [
    "# Making the KMeans model with n_clusters = 4\n",
    "kmeans = KMeans(n_clusters = 4, n_init=10)\n",
    "kmeans.fit(model_scaled) \n",
    "species = kmeans.predict(model_scaled)\n",
    "print(species)\n",
    "print(kmeans.inertia_)"
   ]
  },
  {
   "cell_type": "code",
   "execution_count": null,
   "id": "5f640a82",
   "metadata": {
    "executionCancelledAt": null,
    "executionTime": 2447,
    "lastExecutedAt": 1736247444977,
    "lastExecutedByKernel": "4b9978dd-a49a-4e00-9cb3-8eb451736637",
    "lastScheduledRunId": null,
    "lastSuccessfullyExecutedCode": "from scipy.cluster.hierarchy import dendrogram, linkage\n\n# Calculate the linkage: mergings\nmergings = linkage(model_scaled,method = 'single')\n\n# Plot the dendrogram, using varieties as labels\ndendrogram(mergings,\n           labels=species,\n           leaf_rotation=90,\n           leaf_font_size=3,\n)\nplt.show()\n\n# Via the dendogram I see that there should be 4 clusters"
   },
   "outputs": [],
   "source": [
    "# Plot a dendogram\n",
    "\n",
    "from scipy.cluster.hierarchy import dendrogram, linkage\n",
    "\n",
    "# Calculate the linkage: mergings\n",
    "mergings = linkage(model_scaled,method = 'single')\n",
    "\n",
    "# Plot the dendrogram, using varieties as labels\n",
    "dendrogram(mergings,\n",
    "           labels=species,\n",
    "           leaf_rotation=90,\n",
    "           leaf_font_size=3\n",
    "          )\n",
    "\n",
    "plt.show()\n",
    "\n",
    "# Via the dendogram I see that there should be 4 clusters"
   ]
  },
  {
   "cell_type": "code",
   "execution_count": 78,
   "id": "31e2be47",
   "metadata": {
    "executionCancelledAt": null,
    "executionTime": 770,
    "lastExecutedAt": 1736247445748,
    "lastExecutedByKernel": "4b9978dd-a49a-4e00-9cb3-8eb451736637",
    "lastScheduledRunId": null,
    "lastSuccessfullyExecutedCode": "model_tsne = TSNE(learning_rate=100)\ntransformed_tsne = model_tsne.fit_transform(model_scaled)\nxs_tsne = transformed_tsne[:,0]\nys_tsne = transformed_tsne[:,1]\nplt.scatter(xs_tsne,ys_tsne, c= species)\nplt.show()\n"
   },
   "outputs": [
    {
     "data": {
      "image/png": "[encoded data removed]",
      "text/plain": [
       "<Figure size 640x480 with 1 Axes>"
      ]
     },
     "metadata": {
      "image/png": {
       "height": 413,
       "width": 550
      }
     },
     "output_type": "display_data"
    }
   ],
   "source": [
    "# Display a t-sne graph to show the clusters\n",
    "\n",
    "model_tsne = TSNE(learning_rate=100)\n",
    "transformed_tsne = model_tsne.fit_transform(model_scaled)\n",
    "xs_tsne = transformed_tsne[:,0]\n",
    "ys_tsne = transformed_tsne[:,1]\n",
    "plt.scatter(xs_tsne,ys_tsne, c= species)\n",
    "plt.show()\n"
   ]
  },
  {
   "cell_type": "code",
   "execution_count": 79,
   "id": "872fa708",
   "metadata": {
    "executionCancelledAt": null,
    "executionTime": 54,
    "lastExecutedAt": 1736247445802,
    "lastExecutedByKernel": "4b9978dd-a49a-4e00-9cb3-8eb451736637",
    "lastScheduledRunId": null,
    "lastSuccessfullyExecutedCode": "# Create a dataframe with the penguines array and the clusters\nstats = penguins_df.drop('sex',axis=1)\nstats['species'] = species\nprint(stats.head())\n\n# Group by per specie\nstat_penguins = stats.groupby('species').mean()\nprint(stat_penguins)\nprint(stat_penguins.shape)",
    "outputsMetadata": {
     "0": {
      "height": 374,
      "type": "stream"
     }
    }
   },
   "outputs": [
    {
     "name": "stdout",
     "output_type": "stream",
     "text": [
      "   culmen_length_mm  culmen_depth_mm  ...  sex_numeric  species\n",
      "0              39.1             18.7  ...            0        2\n",
      "1              39.5             17.4  ...            1        0\n",
      "2              40.3             18.0  ...            1        0\n",
      "3              36.7             19.3  ...            1        0\n",
      "4              39.3             20.6  ...            0        2\n",
      "\n",
      "[5 rows x 6 columns]\n",
      "         culmen_length_mm  culmen_depth_mm  ...  body_mass_g  sex_numeric\n",
      "species                                     ...                          \n",
      "0               40.217757        17.611215  ...  3419.158879          1.0\n",
      "1               49.473770        15.718033  ...  5484.836066          0.0\n",
      "2               43.878302        19.111321  ...  4006.603774          0.0\n",
      "3               45.563793        14.237931  ...  4679.741379          1.0\n",
      "\n",
      "[4 rows x 5 columns]\n",
      "(4, 5)\n"
     ]
    }
   ],
   "source": [
    "# Create a dataframe with the penguines array and the clusters\n",
    "stats = penguins_df.drop('sex',axis=1)\n",
    "stats['species'] = species\n",
    "print(stats.head())\n",
    "\n",
    "# Group by specie\n",
    "stat_penguins = stats.groupby('species').mean()\n",
    "print(stat_penguins)\n",
    "print(stat_penguins.shape)"
   ]
  }
 ],
 "metadata": {
  "colab": {
   "name": "Welcome to DataCamp Workspaces.ipynb",
   "provenance": []
  },
  "editor": "DataLab",
  "kernelspec": {
   "display_name": "Python 3 (ipykernel)",
   "language": "python",
   "name": "python3"
  },
  "language_info": {
   "codemirror_mode": {
    "name": "ipython",
    "version": 3
   },
   "file_extension": ".py",
   "mimetype": "text/x-python",
   "name": "python",
   "nbconvert_exporter": "python",
   "pygments_lexer": "ipython3",
   "version": "3.8.20"
  }
 },
 "nbformat": 4,
 "nbformat_minor": 5
}
